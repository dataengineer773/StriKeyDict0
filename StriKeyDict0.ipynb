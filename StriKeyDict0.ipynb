{
 "cells": [
  {
   "cell_type": "code",
   "execution_count": 1,
   "id": "23dc9474-7db6-4508-a257-7e7b0e2c81f7",
   "metadata": {},
   "outputs": [],
   "source": [
    "class StrKeyDict0(dict):\n",
    "    def __missinng__(self, key):\n",
    "        if isinstance(key, str):\n",
    "            raise KeyError(key)\n",
    "        return self[str(key)]"
   ]
  },
  {
   "cell_type": "code",
   "execution_count": 2,
   "id": "e4b6eff8-6fe2-4570-bf32-52d0ab26e7b6",
   "metadata": {},
   "outputs": [],
   "source": [
    "def get(self, key, defult=None):\n",
    "    try:\n",
    "        return self[key]\n",
    "    except KeyError:\n",
    "        return defult"
   ]
  },
  {
   "cell_type": "code",
   "execution_count": 3,
   "id": "336c1948-601d-4bfe-9663-eda5a7e92f9f",
   "metadata": {},
   "outputs": [],
   "source": [
    "def __contains__(self, key):\n",
    "    return key in self.keys() or str(key) in self.keys()"
   ]
  },
  {
   "cell_type": "code",
   "execution_count": null,
   "id": "958c8b9d-68bf-40c1-9cbd-38103958997a",
   "metadata": {},
   "outputs": [],
   "source": []
  }
 ],
 "metadata": {
  "kernelspec": {
   "display_name": "Python 3 (ipykernel)",
   "language": "python",
   "name": "python3"
  },
  "language_info": {
   "codemirror_mode": {
    "name": "ipython",
    "version": 3
   },
   "file_extension": ".py",
   "mimetype": "text/x-python",
   "name": "python",
   "nbconvert_exporter": "python",
   "pygments_lexer": "ipython3",
   "version": "3.12.3"
  }
 },
 "nbformat": 4,
 "nbformat_minor": 5
}
